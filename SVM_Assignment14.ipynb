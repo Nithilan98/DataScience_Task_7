{
  "nbformat": 4,
  "nbformat_minor": 0,
  "metadata": {
    "colab": {
      "name": "SVM_Assignment14.ipynb",
      "provenance": [],
      "include_colab_link": true
    },
    "kernelspec": {
      "name": "python3",
      "display_name": "Python 3"
    },
    "language_info": {
      "name": "python"
    }
  },
  "cells": [
    {
      "cell_type": "markdown",
      "metadata": {
        "id": "view-in-github",
        "colab_type": "text"
      },
      "source": [
        "<a href=\"https://colab.research.google.com/github/Nithilan98/DataScience_Task_7/blob/main/SVM_Assignment14.ipynb\" target=\"_parent\"><img src=\"https://colab.research.google.com/assets/colab-badge.svg\" alt=\"Open In Colab\"/></a>"
      ]
    },
    {
      "cell_type": "code",
      "metadata": {
        "id": "OTEpzVunhgga"
      },
      "source": [
        "#Social_Network_Ads.csv"
      ],
      "execution_count": null,
      "outputs": []
    },
    {
      "cell_type": "markdown",
      "metadata": {
        "id": "Qa5Bo_A9h3kB"
      },
      "source": [
        "**Import libraries**"
      ]
    },
    {
      "cell_type": "code",
      "metadata": {
        "id": "pFIDCPu9h1DO"
      },
      "source": [
        "\n",
        "import pandas as pd\n",
        "from sklearn.preprocessing import LabelEncoder\n",
        "from sklearn.model_selection import train_test_split"
      ],
      "execution_count": 1,
      "outputs": []
    },
    {
      "cell_type": "markdown",
      "metadata": {
        "id": "L9CQXJjkiKRq"
      },
      "source": [
        "**Importing the dataset**"
      ]
    },
    {
      "cell_type": "code",
      "metadata": {
        "id": "ZNiJnC7hh1HC"
      },
      "source": [
        "data=pd.read_csv('Social_Network_Ads.csv')\n",
        "data=data.drop('User ID',axis=1)\n",
        "le=LabelEncoder()\n",
        "data['Gender']=le.fit_transform(data['Gender'])\n",
        "x=data[['Gender','Age','EstimatedSalary']]\n",
        "y=data[['Purchased']]"
      ],
      "execution_count": 2,
      "outputs": []
    },
    {
      "cell_type": "markdown",
      "metadata": {
        "id": "GpelPvR4iSxv"
      },
      "source": [
        "**Splitting the dataset into the Training set and Test set**"
      ]
    },
    {
      "cell_type": "code",
      "metadata": {
        "id": "eROg-IDUh1JZ"
      },
      "source": [
        "X_Train,X_Test,y_Train,y_Test=train_test_split(x,y,test_size=0.25,random_state=1)"
      ],
      "execution_count": 3,
      "outputs": []
    },
    {
      "cell_type": "markdown",
      "metadata": {
        "id": "cwBqfX6WiZOx"
      },
      "source": [
        "**Feature Scaling**"
      ]
    },
    {
      "cell_type": "code",
      "metadata": {
        "id": "yCcfuhv_h1Lw"
      },
      "source": [
        "from sklearn.preprocessing import StandardScaler\n",
        "sl=StandardScaler()\n",
        "X_Train=sl.fit_transform(X_Train)\n",
        "X_Test=sl.transform(X_Test)"
      ],
      "execution_count": 5,
      "outputs": []
    },
    {
      "cell_type": "markdown",
      "metadata": {
        "id": "OUGszSAKinhN"
      },
      "source": [
        "**Fitting SVM to the Training set**"
      ]
    },
    {
      "cell_type": "code",
      "metadata": {
        "id": "FLIzMPkOh1Ob",
        "colab": {
          "base_uri": "https://localhost:8080/"
        },
        "outputId": "2ac95a1e-ad81-4d2a-c40f-9a966355c2f6"
      },
      "source": [
        "from sklearn.svm import SVC\n",
        "model=SVC()\n",
        "model.fit(X_Train,y_Train)"
      ],
      "execution_count": 6,
      "outputs": [
        {
          "output_type": "stream",
          "name": "stderr",
          "text": [
            "/usr/local/lib/python3.7/dist-packages/sklearn/utils/validation.py:993: DataConversionWarning: A column-vector y was passed when a 1d array was expected. Please change the shape of y to (n_samples, ), for example using ravel().\n",
            "  y = column_or_1d(y, warn=True)\n"
          ]
        },
        {
          "output_type": "execute_result",
          "data": {
            "text/plain": [
              "SVC()"
            ]
          },
          "metadata": {},
          "execution_count": 6
        }
      ]
    },
    {
      "cell_type": "markdown",
      "metadata": {
        "id": "aW3yFyofiqtE"
      },
      "source": [
        "**Predicting the Test set results**"
      ]
    },
    {
      "cell_type": "code",
      "metadata": {
        "id": "aG_OGjavh1Q4",
        "colab": {
          "base_uri": "https://localhost:8080/"
        },
        "outputId": "0678c8a8-9dd7-4a99-a8cb-901f017a9014"
      },
      "source": [
        "\n",
        "y_predict=model.predict(X_Test)\n",
        "y_predict"
      ],
      "execution_count": 7,
      "outputs": [
        {
          "output_type": "execute_result",
          "data": {
            "text/plain": [
              "array([0, 0, 1, 1, 1, 0, 0, 1, 0, 1, 0, 0, 0, 1, 1, 1, 1, 0, 0, 1, 0, 1,\n",
              "       1, 1, 1, 0, 1, 1, 1, 1, 0, 0, 0, 1, 0, 0, 0, 0, 1, 0, 1, 1, 1, 0,\n",
              "       1, 1, 1, 1, 0, 1, 0, 0, 0, 1, 0, 0, 1, 0, 1, 1, 0, 0, 1, 0, 1, 1,\n",
              "       0, 0, 1, 0, 1, 0, 1, 0, 0, 1, 0, 0, 0, 0, 0, 1, 1, 0, 0, 0, 1, 0,\n",
              "       1, 0, 1, 1, 1, 0, 0, 1, 1, 0, 0, 0])"
            ]
          },
          "metadata": {},
          "execution_count": 7
        }
      ]
    },
    {
      "cell_type": "markdown",
      "metadata": {
        "id": "4Kfn-chPi4Ts"
      },
      "source": [
        "**Making the Confusion Matrix**"
      ]
    },
    {
      "cell_type": "code",
      "metadata": {
        "id": "G7VPRN2Ah1Tm",
        "colab": {
          "base_uri": "https://localhost:8080/"
        },
        "outputId": "d2f805b2-af7f-4350-dfd6-038899134763"
      },
      "source": [
        "from sklearn.metrics import confusion_matrix,accuracy_score,plot_roc_curve\n",
        "con_matrix=confusion_matrix(y_Test,y_predict)\n",
        "print(confusion_matrix(y_Test,y_predict))\n",
        "print(accuracy_score(y_Test,y_predict)*100)\n"
      ],
      "execution_count": 11,
      "outputs": [
        {
          "output_type": "stream",
          "name": "stdout",
          "text": [
            "[[49  9]\n",
            " [ 3 39]]\n",
            "88.0\n"
          ]
        }
      ]
    },
    {
      "cell_type": "markdown",
      "metadata": {
        "id": "7Fo3I-pKi7JQ"
      },
      "source": [
        "**Visualising the Training set results**"
      ]
    },
    {
      "cell_type": "code",
      "metadata": {
        "id": "hI3xXh_oh1XK",
        "colab": {
          "base_uri": "https://localhost:8080/",
          "height": 283
        },
        "outputId": "62628bac-9395-4fc3-f5b2-66fc6b6ec24f"
      },
      "source": [
        "import seaborn as sns\n",
        "sns.heatmap(con_matrix, annot=True)"
      ],
      "execution_count": 12,
      "outputs": [
        {
          "output_type": "execute_result",
          "data": {
            "text/plain": [
              "<matplotlib.axes._subplots.AxesSubplot at 0x7fe2d65d4950>"
            ]
          },
          "metadata": {},
          "execution_count": 12
        },
        {
          "output_type": "display_data",
          "data": {
            "text/plain": [
              "<Figure size 432x288 with 2 Axes>"
            ],
            "image/png": "[encoded data removed]"
          },
          "metadata": {
            "needs_background": "light"
          }
        }
      ]
    },
    {
      "cell_type": "code",
      "metadata": {
        "id": "YzMdeL7FjHnn"
      },
      "source": [
        ""
      ],
      "execution_count": null,
      "outputs": []
    },
    {
      "cell_type": "markdown",
      "metadata": {
        "id": "FudAc9-6jSS9"
      },
      "source": [
        "**Visualising the Test set results**"
      ]
    },
    {
      "cell_type": "code",
      "metadata": {
        "id": "Q3aQCPffjHqj"
      },
      "source": [
        ""
      ],
      "execution_count": null,
      "outputs": []
    },
    {
      "cell_type": "code",
      "metadata": {
        "id": "da0qhcjeh1a0"
      },
      "source": [
        ""
      ],
      "execution_count": null,
      "outputs": []
    }
  ]
}